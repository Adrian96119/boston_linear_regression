{
 "cells": [
  {
   "cell_type": "code",
   "execution_count": 1,
   "metadata": {},
   "outputs": [],
   "source": [
    "from sklearn.datasets import load_boston"
   ]
  },
  {
   "cell_type": "markdown",
   "metadata": {},
   "source": [
    "Use `load_boston` to load the Boston Housing Dataset.\n",
    "You must create a Linear Regression model fitted to this data to predict house prices.\n",
    "\n",
    "- Check the data for nulls\n",
    "- Explore the data, distributions, correlations.\n",
    "- Take that into mind when choosing the features for your model.\n",
    "- Watch out for colinearity.\n",
    "- Split your data into train and test. [Check out how!](https://scikit-learn.org/stable/modules/generated/sklearn.model_selection.train_test_split.html)\n",
    "- Measure the goodness of your fit! $R^2$, $RMSE$, etc.\n",
    "- Try to make it better.\n",
    "- Do your own research. Checkout both sklearn and statsmodels, get a feel of both.\n",
    "- Have fun.\n"
   ]
  },
  {
   "cell_type": "markdown",
   "metadata": {},
   "source": [
    "### Further resources\n",
    "\n",
    "- [The internet is your friend](https://towardsdatascience.com/simple-and-multiple-linear-regression-with-python-c9ab422ec29c)\n",
    "- [Scikit-Learn](https://scikit-learn.org)\n",
    "- [Statsmodels](https://statsmodels.org)"
   ]
  }
 ],
 "metadata": {
  "kernelspec": {
   "display_name": "Python3 (ih)",
   "language": "python",
   "name": "ironhack"
  },
  "language_info": {
   "codemirror_mode": {
    "name": "ipython",
    "version": 3
   },
   "file_extension": ".py",
   "mimetype": "text/x-python",
   "name": "python",
   "nbconvert_exporter": "python",
   "pygments_lexer": "ipython3",
   "version": "3.7.8"
  }
 },
 "nbformat": 4,
 "nbformat_minor": 4
}
